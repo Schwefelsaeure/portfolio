{
 "cells": [
  {
   "cell_type": "markdown",
   "metadata": {},
   "source": [
    "# Visualize the flow in and out of square cells as example of a mesoscopic view\n",
    "\n",
    "Use the density map and trajectory visualization in \"PedestrianDynamics-MacroscopicVsMicroscopic.pdf\" as basis. The trajectoriy visualization contains multiple cells arranged as 9 rows and 7 columns. Therefore, use a 9x9array, use the flow as cell value and use `matplotlib.matshow()` to visualize this array."
   ]
  },
  {
   "cell_type": "code",
   "execution_count": 4,
   "metadata": {},
   "outputs": [],
   "source": [
    "import numpy as np\n",
    "\n",
    "import matplotlib.pyplot as plt"
   ]
  },
  {
   "cell_type": "code",
   "execution_count": 42,
   "metadata": {},
   "outputs": [
    {
     "name": "stdout",
     "output_type": "stream",
     "text": [
      "['seaborn-poster', 'seaborn-dark', 'seaborn-colorblind', 'seaborn-notebook', 'seaborn-darkgrid', 'Solarize_Light2', 'grayscale', '_classic_test', 'bmh', 'seaborn-deep', 'tableau-colorblind10', 'fast', 'seaborn', 'seaborn-pastel', 'seaborn-muted', 'seaborn-ticks', 'dark_background', 'seaborn-bright', 'classic', 'seaborn-talk', 'seaborn-white', 'ggplot', 'seaborn-paper', 'seaborn-dark-palette', 'seaborn-whitegrid', 'fivethirtyeight']\n"
     ]
    }
   ],
   "source": [
    "def use_custom_plot_settings(font_weight=\"normal\"):\n",
    "    font_size_extra_small = 12\n",
    "    font_size_small = 16\n",
    "    font_size_medium = 18\n",
    "    font_size_big = 20\n",
    "\n",
    "    plt.style.use(\"default\")\n",
    "    \n",
    "    plt.rc(\"font\", size=font_size_small, weight=font_weight)\n",
    "    plt.rc(\"axes\", titlesize=font_size_big, titleweight=font_weight)\n",
    "    plt.rc(\"axes\", labelsize=font_size_medium, labelweight=font_weight)\n",
    "    plt.rc(\"xtick\", labelsize=font_size_small)\n",
    "    plt.rc(\"ytick\", labelsize=font_size_small)\n",
    "    plt.rc(\"legend\", fontsize=font_size_extra_small)\n",
    "    plt.rc(\"figure\", titlesize=font_size_big, titleweight=font_weight)\n",
    "\n",
    "def use_default_plot_settings():\n",
    "    plt.rcdefaults()\n",
    "    \n",
    "use_custom_plot_settings(font_weight=\"normal\")\n",
    "print(plt.style.available)"
   ]
  },
  {
   "cell_type": "code",
   "execution_count": 60,
   "metadata": {},
   "outputs": [
    {
     "data": {
      "image/png": "[encoded data removed]",
      "text/plain": [
       "<Figure size 1280x480 with 1 Axes>"
      ]
     },
     "metadata": {},
     "output_type": "display_data"
    }
   ],
   "source": [
    "flow_matrix = np.array([\n",
    "    [0, 0, 0, 0, 0, 0, 0, 0, 0],\n",
    "    [0, 0, 0, 0, 0, 0, 0, 0, 0],\n",
    "    [0, 0, 1, 1, 1, 1, 1, 0, 0],\n",
    "    [0, 0, 1, 1, 2, 3, 2, 0, 0],\n",
    "    [0, 0, 1, 2, 3, 4, 3, 0, 0],\n",
    "    [0, 0, 2, 3, 4, 3, 2, 0, 0],\n",
    "    [0, 0, 3, 4, 3, 2, 1, 0, 0],\n",
    "    [0, 0, 0, 4, 0, 0, 0, 0, 0],\n",
    "    [0, 0, 0, 4, 0, 0, 0, 0, 0]\n",
    "])\n",
    "\n",
    "fig = plt.figure(figsize=(12.8, 4.8))\n",
    "ax = fig.add_subplot(111)\n",
    "\n",
    "def apply_plot_settings(axis):\n",
    "    for side in [\"left\", \"right\",\"top\", \"bottom\"]:\n",
    "        axis.spines[side].set_visible(False)\n",
    "        \n",
    "    axis.tick_params(\n",
    "        axis=\"both\",\n",
    "        which=\"both\",\n",
    "        left=False,\n",
    "        right=False,\n",
    "        top=False,\n",
    "        bottom=False,\n",
    "        labelleft=False,\n",
    "        labeltop=False\n",
    "    )\n",
    "    \n",
    "ax.matshow(flow_matrix)\n",
    "apply_plot_settings(ax)\n",
    "\n",
    "fig.savefig(\"MesoscopicView-FlowVisualization.pdf\", bbox_inches=\"tight\", transparent=True)"
   ]
  }
 ],
 "metadata": {
  "kernelspec": {
   "display_name": "Python 3",
   "language": "python",
   "name": "python3"
  },
  "language_info": {
   "codemirror_mode": {
    "name": "ipython",
    "version": 3
   },
   "file_extension": ".py",
   "mimetype": "text/x-python",
   "name": "python",
   "nbconvert_exporter": "python",
   "pygments_lexer": "ipython3",
   "version": "3.6.9"
  }
 },
 "nbformat": 4,
 "nbformat_minor": 2
}
