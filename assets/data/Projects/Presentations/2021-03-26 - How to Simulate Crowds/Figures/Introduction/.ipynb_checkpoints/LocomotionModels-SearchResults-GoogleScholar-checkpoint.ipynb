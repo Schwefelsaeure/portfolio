{
 "cells": [
  {
   "cell_type": "markdown",
   "metadata": {},
   "source": [
    "# Plot number of search results for different locomotion models on https://scholar.google.com/\n",
    "\n",
    "Cover these locomotion models: social force model, cellular automaton and optimal steps model.\n",
    "\n",
    "Use a stacked bar graph to show the effect the search term \"pedestrian\" vs. \"crowd\"."
   ]
  },
  {
   "cell_type": "code",
   "execution_count": null,
   "metadata": {},
   "outputs": [],
   "source": [
    "import numpy as np\n",
    "import pandas as pd\n",
    "\n",
    "import matplotlib.pyplot as plt"
   ]
  },
  {
   "cell_type": "code",
   "execution_count": null,
   "metadata": {},
   "outputs": [],
   "source": [
    "def use_custom_plot_settings(font_weight=\"normal\"):\n",
    "    font_size_extra_small = 12\n",
    "    font_size_small = 16\n",
    "    font_size_medium = 18\n",
    "    font_size_big = 20\n",
    "\n",
    "    plt.style.use(\"default\")\n",
    "    \n",
    "    plt.rc(\"font\", size=font_size_small, weight=font_weight)\n",
    "    plt.rc(\"axes\", titlesize=font_size_big, titleweight=font_weight)\n",
    "    plt.rc(\"axes\", labelsize=font_size_medium, labelweight=font_weight)\n",
    "    plt.rc(\"xtick\", labelsize=font_size_small)\n",
    "    plt.rc(\"ytick\", labelsize=font_size_small)\n",
    "    plt.rc(\"legend\", fontsize=font_size_extra_small)\n",
    "    plt.rc(\"figure\", titlesize=font_size_big, titleweight=font_weight)\n",
    "\n",
    "def use_default_plot_settings():\n",
    "    plt.rcdefaults()\n",
    "    \n",
    "use_custom_plot_settings(font_weight=\"normal\")\n",
    "print(plt.style.available)"
   ]
  },
  {
   "cell_type": "markdown",
   "metadata": {},
   "source": [
    "## Data"
   ]
  },
  {
   "cell_type": "code",
   "execution_count": null,
   "metadata": {},
   "outputs": [],
   "source": [
    "# Data retrieved manually on June 6, 2020 from https://scholar.google.com/scholar\n",
    "# Search terms \"<locomotion_model>\" (pedestrian|crowd)\n",
    "# where <locomotion_model> in [social force model, cellular automaton, optimal steps model]\n",
    "\n",
    "df = pd.DataFrame(\n",
    "    {\n",
    "        \"pedestrian\": [7110, 5840, 77],\n",
    "        \"crowd\": [6400, 5770, 64]\n",
    "    },\n",
    "    index=[\"social force model\", \"cellular automaton\", \"optimal steps model\"]\n",
    ")\n",
    "\n",
    "df"
   ]
  },
  {
   "cell_type": "markdown",
   "metadata": {},
   "source": [
    "## Plots"
   ]
  },
  {
   "cell_type": "code",
   "execution_count": null,
   "metadata": {},
   "outputs": [],
   "source": [
    "fig = plt.figure()\n",
    "ax = fig.add_subplot(111)\n",
    "\n",
    "total_groups = len(df.index)\n",
    "locations = np.arange(total_groups)\n",
    "bar_width = 0.35\n",
    "\n",
    "for col_idx, col_name in enumerate(df.columns):\n",
    "    col_data = df.iloc[:, col_idx]\n",
    "    label_template = \"\\\"<model>\\\" AND {}\"\n",
    "    \n",
    "    if col_idx == 0:\n",
    "        ax.bar(locations, col_data, width, label=label_template.format(col_name))\n",
    "    else:\n",
    "        previous_col_data = df.iloc[:, col_idx - 1]\n",
    "        ax.bar(locations, col_data, width, label=label_template.format(col_name), bottom=previous_col_data)\n",
    "\n",
    "ax.set_title(\"Search results by locomotion model\\non https://scholar.google.com/\\nand search term variation\")\n",
    "\n",
    "ax.set_xticks(range(0, len(df.index)))\n",
    "labels = [name.replace(\" \", \"\\n\") for name in df.index]\n",
    "ax.set_xticklabels(labels=labels)\n",
    "\n",
    "ax.set_yticks([100, 4000, 8000, 12000, 16000])\n",
    "ax.set_ylabel(\"Search results\")\n",
    "\n",
    "ax.legend()\n",
    "\n",
    "print(df.to_latex())\n",
    "fig.savefig(\"LocomotionModels-SearchResults-GoogleScholar.pdf\", bbox_inches=\"tight\", transparent=True)\n",
    "plt.show()"
   ]
  }
 ],
 "metadata": {
  "kernelspec": {
   "display_name": "Python 3",
   "language": "python",
   "name": "python3"
  },
  "language_info": {
   "codemirror_mode": {
    "name": "ipython",
    "version": 3
   },
   "file_extension": ".py",
   "mimetype": "text/x-python",
   "name": "python",
   "nbconvert_exporter": "python",
   "pygments_lexer": "ipython3",
   "version": "3.6.9"
  }
 },
 "nbformat": 4,
 "nbformat_minor": 2
}
